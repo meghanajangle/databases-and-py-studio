{
    "metadata": {
        "kernelspec": {
            "name": "python3",
            "display_name": "Python 3 (ipykernel)",
            "language": "python"
        },
        "language_info": {
            "name": "python",
            "version": "3.8.10",
            "mimetype": "text/x-python",
            "codemirror_mode": {
                "name": "ipython",
                "version": 3
            },
            "pygments_lexer": "ipython3",
            "nbconvert_exporter": "python",
            "file_extension": ".py"
        }
    },
    "nbformat_minor": 2,
    "nbformat": 4,
    "cells": [
        {
            "cell_type": "markdown",
            "source": [
                "# Studio: Working with Databases in Python\n",
                "\n",
                "For today's studio, we will be using the [TV Shows dataset](https://www.kaggle.com/ruchi798/tv-shows-on-netflix-prime-video-hulu-and-disney) from Kaggle. We have already downloaded the CSV for you.\n",
                "\n",
                "You will also be using the watchlist you just created to figure out which streaming services contain the shows that you want to watch next so you can decide which one is worth the money to you.\n",
                "\n",
                "As you complete the different tasks in the studio, you may choose between using Pandas or SQL. Remember that during the prep work, we learned that one is oftentimes more efficient at certain tasks than the other, so choose wisely!"
            ],
            "metadata": {
                "azdata_cell_guid": "54326aff-51cd-4766-8046-828a92489c6d"
            },
            "attachments": {}
        },
        {
            "cell_type": "markdown",
            "source": [
                "## My Watchlist\n",
                "\n",
                "If you would like, please use this space to make note of your watchlist by editing the text cell."
            ],
            "metadata": {
                "azdata_cell_guid": "00bc62ef-6c46-40a2-bdad-a3250a003ce7"
            },
            "attachments": {}
        },
        {
            "cell_type": "markdown",
            "source": [
                "## Database Setup\n",
                "\n",
                "To start with, import the necessary libraries and create a dataframe from the provided CSV. Print the info out for the dataframe. After that, you may drop the column called `Unnamed: 0` and rename any columns with spaces in the names or unusual characters such as `\"+\"`. Print out the info for the dataframe again to ensure that your changes were effective."
            ],
            "metadata": {
                "azdata_cell_guid": "040bdac5-f7fc-474f-b112-1d807249ad0a"
            }
        },
        {
            "cell_type": "code",
            "source": [
                "import sqlite3\r\n",
                "import pandas as pd\r\n",
                "df = pd.read_csv('tv_shows.csv')\r\n",
                "df.info()\r\n",
                "df = df.drop(columns = ['Unnamed: 0'],axis = 1)\r\n",
                "df = df.rename(columns={'Rotten Tomatoes' : 'Rotten_Tomatoes', 'Prime Video' : 'Prime_Video', 'Disney+' : 'Disney_Plus'})\r\n",
                "df.info()"
            ],
            "metadata": {
                "azdata_cell_guid": "965f15d3-27b1-43ed-97e4-8c6fd482476c",
                "tags": [],
                "language": "python"
            },
            "outputs": [
                {
                    "output_type": "stream",
                    "name": "stdout",
                    "text": "<class 'pandas.core.frame.DataFrame'>\nRangeIndex: 5368 entries, 0 to 5367\nData columns (total 12 columns):\n #   Column           Non-Null Count  Dtype \n---  ------           --------------  ----- \n 0   Unnamed: 0       5368 non-null   int64 \n 1   ID               5368 non-null   int64 \n 2   Title            5368 non-null   object\n 3   Year             5368 non-null   int64 \n 4   Age              3241 non-null   object\n 5   IMDb             4406 non-null   object\n 6   Rotten Tomatoes  5368 non-null   object\n 7   Netflix          5368 non-null   int64 \n 8   Hulu             5368 non-null   int64 \n 9   Prime Video      5368 non-null   int64 \n 10  Disney+          5368 non-null   int64 \n 11  Type             5368 non-null   int64 \ndtypes: int64(8), object(4)\nmemory usage: 503.4+ KB\n<class 'pandas.core.frame.DataFrame'>\nRangeIndex: 5368 entries, 0 to 5367\nData columns (total 11 columns):\n #   Column           Non-Null Count  Dtype \n---  ------           --------------  ----- \n 0   ID               5368 non-null   int64 \n 1   Title            5368 non-null   object\n 2   Year             5368 non-null   int64 \n 3   Age              3241 non-null   object\n 4   IMDb             4406 non-null   object\n 5   Rotten_Tomatoes  5368 non-null   object\n 6   Netflix          5368 non-null   int64 \n 7   Hulu             5368 non-null   int64 \n 8   Prime_Video      5368 non-null   int64 \n 9   Disney_Plus      5368 non-null   int64 \n 10  Type             5368 non-null   int64 \ndtypes: int64(7), object(4)\nmemory usage: 461.4+ KB\n"
                }
            ],
            "execution_count": 14
        },
        {
            "cell_type": "markdown",
            "source": [
                "With your dataframe at the ready, create a new database called `tv`. Add a new table to your database called `shows` using the data in the dataframe. "
            ],
            "metadata": {
                "azdata_cell_guid": "93875e01-f1ec-45ab-b8b3-c0fe09c89c41"
            },
            "attachments": {}
        },
        {
            "cell_type": "code",
            "source": [
                "conn = sqlite3.connect('tv.db')\r\n",
                "print('database created successfully')\r\n",
                "\r\n",
                ""
            ],
            "metadata": {
                "azdata_cell_guid": "cae4affc-d930-4649-9c39-551475a83b5b",
                "tags": [],
                "language": "python"
            },
            "outputs": [
                {
                    "output_type": "stream",
                    "name": "stdout",
                    "text": "database created successfully\n"
                }
            ],
            "execution_count": 46
        },
        {
            "cell_type": "code",
            "source": [
                "# creating tv table\r\n",
                "df.to_sql('shows', conn)"
            ],
            "metadata": {
                "language": "python",
                "azdata_cell_guid": "aa6a56dd-ad20-4e64-81c8-1fb996d8f706"
            },
            "outputs": [
                {
                    "output_type": "execute_result",
                    "execution_count": 47,
                    "data": {
                        "text/plain": "5368"
                    },
                    "metadata": {}
                }
            ],
            "execution_count": 47
        },
        {
            "cell_type": "markdown",
            "source": [
                "With your new table and database set up, print out the top 20 records in the `shows` table."
            ],
            "metadata": {
                "azdata_cell_guid": "4916f211-149f-467b-b5e4-22ad946b54f2"
            },
            "attachments": {}
        },
        {
            "cell_type": "code",
            "source": [
                "cursor = conn.execute(\"SELECT * FROM shows LIMIT (20)\")\r\n",
                "for row in cursor:\r\n",
                "    print(row)\r\n",
                ""
            ],
            "metadata": {
                "azdata_cell_guid": "c6aa3980-3eef-4d7d-8f04-961508662147",
                "tags": [],
                "language": "python"
            },
            "outputs": [
                {
                    "output_type": "stream",
                    "name": "stdout",
                    "text": "(0, 1, 'Breaking Bad', 2008, '18+', '9.4/10', '100/100', 1, 0, 0, 0, 1)\n(1, 2, 'Stranger Things', 2016, '16+', '8.7/10', '96/100', 1, 0, 0, 0, 1)\n(2, 3, 'Attack on Titan', 2013, '18+', '9.0/10', '95/100', 1, 1, 0, 0, 1)\n(3, 4, 'Better Call Saul', 2015, '18+', '8.8/10', '94/100', 1, 0, 0, 0, 1)\n(4, 5, 'Dark', 2017, '16+', '8.8/10', '93/100', 1, 0, 0, 0, 1)\n(5, 6, 'Avatar: The Last Airbender', 2005, '7+', '9.3/10', '93/100', 1, 0, 1, 0, 1)\n(6, 7, 'Peaky Blinders', 2013, '18+', '8.8/10', '93/100', 1, 0, 0, 0, 1)\n(7, 8, 'The Walking Dead', 2010, '18+', '8.2/10', '93/100', 1, 0, 0, 0, 1)\n(8, 9, 'Black Mirror', 2011, '18+', '8.8/10', '92/100', 1, 0, 0, 0, 1)\n(9, 10, \"The Queen's Gambit\", 2020, '18+', '8.6/10', '92/100', 1, 0, 0, 0, 1)\n(10, 11, 'Mindhunter', 2017, '18+', '8.6/10', '90/100', 1, 0, 0, 0, 1)\n(11, 12, 'Community', 2009, '7+', '8.5/10', '90/100', 1, 1, 1, 0, 1)\n(12, 13, 'Narcos', 2015, '18+', '8.8/10', '90/100', 1, 0, 0, 0, 1)\n(13, 14, 'Shameless', 2011, '18+', '8.5/10', '90/100', 1, 1, 1, 0, 1)\n(14, 15, 'Money Heist', 2017, '18+', '8.3/10', '90/100', 1, 0, 0, 0, 1)\n(15, 16, \"Marvel's Daredevil\", 2015, '18+', '8.6/10', '90/100', 1, 0, 0, 0, 1)\n(16, 17, 'Lucifer', 2016, '16+', '8.1/10', '90/100', 1, 0, 0, 0, 1)\n(17, 18, 'Supernatural', 2005, '16+', '8.4/10', '89/100', 1, 0, 0, 0, 1)\n(18, 19, 'The Witcher', 2019, '18+', '8.2/10', '89/100', 1, 0, 0, 0, 1)\n(19, 20, 'Ozark', 2017, '18+', '8.4/10', '89/100', 1, 0, 0, 0, 1)\n"
                }
            ],
            "execution_count": 48
        },
        {
            "cell_type": "markdown",
            "source": [
                "Now add a table that includes an id number and the titles on your watchlist."
            ],
            "metadata": {
                "azdata_cell_guid": "f158ccd2-c87a-4d2c-a947-0eadd0484a3e"
            },
            "attachments": {}
        },
        {
            "cell_type": "code",
            "source": [
                "# Use Pandas to make a new table in your database. \r\n",
                "df_watch_list = pd.DataFrame({\r\n",
                "    'id': [1,2,3,4,5,6,7,8,9,10],\r\n",
                "    'title': ['Money Heist','Seven','Breaking Bad','Ozark','The Chosen','Sex Education','Game of Thrones', 'Stranger Things','Breathe', 'Ted Lasso']\r\n",
                "})\r\n",
                "\r\n",
                "df_watch_list.to_sql('watch_list', conn)"
            ],
            "metadata": {
                "azdata_cell_guid": "f95defad-521b-4112-8435-08daaac80b80",
                "language": "python"
            },
            "outputs": [
                {
                    "output_type": "execute_result",
                    "execution_count": 29,
                    "data": {
                        "text/plain": "10"
                    },
                    "metadata": {}
                }
            ],
            "execution_count": 29
        },
        {
            "cell_type": "markdown",
            "source": [
                "## Working with the Data\n",
                "\n",
                "Using either Pandas or SQL, determine how many shows are on each streaming service and what the mean is for each streaming service. \n",
                "\n",
                "**Note**: You may notice that the mean represents the percentage of shows in the dataframe that are on each streaming service. Take a moment to think about why that is."
            ],
            "metadata": {
                "azdata_cell_guid": "4716090d-63e3-4283-8245-934c4a28c750"
            },
            "attachments": {}
        },
        {
            "cell_type": "code",
            "source": [
                "Aggregate_service = pd.read_sql_query('SELECT Netflix, Hulu, Prime_Video, Disney_Plus FROM shows', conn)\r\n",
                "Aggregate_service.sum()\r\n",
                ""
            ],
            "metadata": {
                "azdata_cell_guid": "8e4f3757-474f-4e20-b861-db973437b541",
                "language": "python",
                "tags": []
            },
            "outputs": [
                {
                    "output_type": "execute_result",
                    "execution_count": 49,
                    "data": {
                        "text/plain": "Netflix        1971\nHulu           1621\nPrime_Video    1831\nDisney_Plus     351\ndtype: int64"
                    },
                    "metadata": {}
                }
            ],
            "execution_count": 49
        },
        {
            "cell_type": "code",
            "source": [
                "Aggregate_service.mean()"
            ],
            "metadata": {
                "language": "python",
                "azdata_cell_guid": "f92f0b19-46aa-45f3-9690-18f65a06ef3d"
            },
            "outputs": [
                {
                    "output_type": "execute_result",
                    "execution_count": 33,
                    "data": {
                        "text/plain": "Netflix        0.367176\nHulu           0.301975\nPrime_Video    0.341095\nDisney_Plus    0.065387\ndtype: float64"
                    },
                    "metadata": {}
                }
            ],
            "execution_count": 33
        },
        {
            "cell_type": "markdown",
            "source": [
                "Join your watchlist data with the shows data to determine which streaming services your watchlist shows are on and make a new table in your database using the joined data. Print out the data in your joined table to see what shows on your watchlist on in the original dataset. With the joined data, determine the percentage of your watchlist shows that are on each streaming service and how many of your watchlist shows are on each streaming service."
            ],
            "metadata": {
                "azdata_cell_guid": "167cbd0d-ad9f-4f27-8066-e45dfdfaf421"
            },
            "attachments": {}
        },
        {
            "cell_type": "code",
            "source": [
                "#Join the table and put it a dataframe\r\n",
                "tv_watchlist = pd.read_sql_query(\"SELECT s.Title, s.Netflix, s.Hulu, s.Prime_Video, s.Disney_Plus\" \r\n",
                "                  \" FROM shows s\"\r\n",
                "                 \" JOIN watch_list w on s.Title = w.TITLE\", conn)\r\n",
                "\r\n",
                "# create table from dataframe\r\n",
                "tv_watchlist.to_sql(\"shows_watchlist\", conn)\r\n",
                "\r\n",
                ""
            ],
            "metadata": {
                "azdata_cell_guid": "b871523e-a476-4f3a-a6ac-2e251f140e84",
                "language": "python"
            },
            "outputs": [
                {
                    "output_type": "execute_result",
                    "execution_count": 51,
                    "data": {
                        "text/plain": "6"
                    },
                    "metadata": {}
                }
            ],
            "execution_count": 51
        },
        {
            "cell_type": "code",
            "source": [
                "# Retrieve records from new table\r\n",
                "cursor = conn.execute(\"SELECT * FROM shows_watchlist \")\r\n",
                "for row in cursor:\r\n",
                "    print(row);\r\n",
                "\r\n",
                "Aggregate_watchlist = pd.read_sql_query('SELECT Netflix, Hulu, Prime_Video, Disney_Plus FROM shows_watchlist', conn)\r\n",
                "Aggregate_watchlist.sum()\r\n",
                ""
            ],
            "metadata": {
                "language": "python",
                "azdata_cell_guid": "37b85e59-f131-44f6-b224-e005b25b1227"
            },
            "outputs": [
                {
                    "output_type": "stream",
                    "name": "stdout",
                    "text": "(0, 'Breaking Bad', 1, 0, 0, 0)\n(1, 'Stranger Things', 1, 0, 0, 0)\n(2, 'Money Heist', 1, 0, 0, 0)\n(3, 'Ozark', 1, 0, 0, 0)\n(4, 'Sex Education', 1, 0, 0, 0)\n(5, 'Breathe', 0, 0, 1, 0)\n"
                },
                {
                    "output_type": "execute_result",
                    "execution_count": 52,
                    "data": {
                        "text/plain": "Netflix        5\nHulu           0\nPrime_Video    1\nDisney_Plus    0\ndtype: int64"
                    },
                    "metadata": {}
                }
            ],
            "execution_count": 52
        },
        {
            "cell_type": "code",
            "source": [
                "Aggregate_watchlist.mean()\r\n",
                ""
            ],
            "metadata": {
                "language": "python",
                "azdata_cell_guid": "9a131d21-bb8e-4e33-8474-c019c44f622d",
                "tags": []
            },
            "outputs": [
                {
                    "output_type": "execute_result",
                    "execution_count": 54,
                    "data": {
                        "text/plain": "Netflix        0.833333\nHulu           0.000000\nPrime_Video    0.166667\nDisney_Plus    0.000000\ndtype: float64"
                    },
                    "metadata": {}
                }
            ],
            "execution_count": 54
        },
        {
            "cell_type": "code",
            "source": [
                "conn.close()"
            ],
            "metadata": {
                "language": "python",
                "azdata_cell_guid": "9e29e508-a499-4dc1-80bd-60ced75cc85e"
            },
            "outputs": [],
            "execution_count": 55
        },
        {
            "cell_type": "markdown",
            "source": [
                "## Results\n",
                "\n",
                "Now that you have done your analysis, make note of the answers to the following questions by editing the text cell:\n",
                "\n",
                "1. Was every show on your watchlist in the Kaggle dataset? Do you have any ideas as to why a show might not have been present? Not all my shows were in the Kaggle dataset. Some shows were part of other service providers not listed in Kaggle\n",
                "2. Did you include a show or shows in your watchlist that is exclusive to one of the platforms? How might that have impacted your analysis? All the shows were exclusive of the platforms and hence the mean and sum were impacted when joined.\n",
                "3. Which streaming service(s) offered the most shows on your watchlist? Which streaming service(s) offered the least? Netflix - most and Hulu / Disney+ the least.\n",
                "4. Based on the shows you want to watch and the results of your analysis, is there a streaming service you think would be a good fit for you? Netflix is good fit as it has more than 50% of my watchlist."
            ],
            "metadata": {
                "azdata_cell_guid": "909689e4-1aae-41e3-b1f8-158ebe5ec3ca"
            },
            "attachments": {}
        }
    ]
}